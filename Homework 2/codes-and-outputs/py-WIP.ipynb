{
 "cells": [
  {
   "cell_type": "code",
   "execution_count": 1,
   "metadata": {},
   "outputs": [],
   "source": [
    "import pandas as pd\n",
    "import numpy as np\n",
    "import os\n",
    "import glob"
   ]
  },
  {
   "cell_type": "code",
   "execution_count": 205,
   "metadata": {},
   "outputs": [],
   "source": [
    "os.chdir('../data')"
   ]
  },
  {
   "cell_type": "code",
   "execution_count": 243,
   "metadata": {},
   "outputs": [
    {
     "name": "stderr",
     "output_type": "stream",
     "text": [
      "/var/folders/w3/zbqnzn0j2qn92w1njyh0tl940000gn/T/ipykernel_79409/2540292994.py:13: DtypeWarning: Columns (6) have mixed types. Specify dtype option on import or set low_memory=False.\n",
      "  d[name[i]] = pd.read_csv(file_name)\n"
     ]
    }
   ],
   "source": [
    "path = os.getcwd() #current working directory\n",
    "files = glob.glob(path + \"/*.csv\") #all csv file names\n",
    "\n",
    "name = [] #empty list for csv file name extraction\n",
    "#csv file name extraction - .csv\n",
    "for i, file_name in enumerate(files):\n",
    "    name.append(os.path.basename(files[i]).removesuffix('.csv')) \n",
    "\n",
    "d = {}   #dictionary to store all csv as df\n",
    "\n",
    "#input into dictionary d \n",
    "for i, file_name in enumerate(files): \n",
    "    d[name[i]] = pd.read_csv(file_name)\n",
    "\n",
    "for i,x in enumerate(name):\n",
    "    vars()[x] = pd.DataFrame(d[x])"
   ]
  },
  {
   "cell_type": "code",
   "execution_count": 213,
   "metadata": {},
   "outputs": [
    {
     "name": "stdout",
     "output_type": "stream",
     "text": [
      "\n",
      "\n",
      "\n",
      "\n",
      "\n",
      "\n",
      "\n",
      "\n",
      "\n",
      "\n",
      "\n",
      "\n",
      "\n",
      "\n",
      "\n",
      "\n",
      "\n",
      "\n",
      "\n",
      "\n",
      "\n",
      "\n",
      "\n",
      "\n",
      "\n"
     ]
    }
   ],
   "source": [
    "#checking for missing values --> none\n",
    "for i in range(len(loans.columns)):\n",
    "    print((loans.columns[i], sum(loans.iloc[:,i].isna())) if sum(loans.iloc[:,i].isna()) != 0 else \"\")\n"
   ]
  },
  {
   "cell_type": "code",
   "execution_count": 244,
   "metadata": {},
   "outputs": [],
   "source": [
    "#extract column title containing loan info\n",
    "col_title = ['24_A', '12_B',\n",
    "       '12_A', '60_D', '48_C', '36_D', '36_C', '12_C', '48_A', '24_C', '60_C',\n",
    "       '24_B', '48_D', '24_D', '48_B', '36_A', '36_B', '60_B', '12_D', '60_A']\n",
    "\n",
    "#split column titles into length and type\n",
    "x = []\n",
    "y = []\n",
    "\n",
    "for i in range(len(col_title)):\n",
    "    x.append(col_title[i].split(\"_\")[0])\n",
    "    y.append(col_title[i].split(\"_\")[1])\n",
    "\n",
    "#create new column loan_length and loan_status\n",
    "for row in range(0,len(loans)):\n",
    "    for col in range(0,len(col_title)):\n",
    "        if loans.loc[row,col_title[col]] == \"X\":\n",
    "            loans.loc[row,\"loan_length\"] = x[col]\n",
    "            loans.loc[row,\"loan_status\"] = y[col]\n",
    "\n",
    "\n",
    "#loans['loan_length'].fillna(value = \"no_loan\", inplace = True)\n",
    "#loans['loan_status'].fillna(value = \"no_loan\", inplace = True)"
   ]
  },
  {
   "cell_type": "code",
   "execution_count": 247,
   "metadata": {},
   "outputs": [],
   "source": [
    "#drop unnecessary columns\n",
    "loans = loans.drop(loans.columns[5:25], axis =1)"
   ]
  },
  {
   "cell_type": "code",
   "execution_count": 248,
   "metadata": {},
   "outputs": [],
   "source": [
    "#change to correct datatype\n",
    "loans['date'] = pd.to_datetime(loans['date'])"
   ]
  },
  {
   "cell_type": "code",
   "execution_count": 116,
   "metadata": {},
   "outputs": [
    {
     "name": "stdout",
     "output_type": "stream",
     "text": [
      "<class 'pandas.core.frame.DataFrame'>\n",
      "RangeIndex: 682 entries, 0 to 681\n",
      "Data columns (total 6 columns):\n",
      " #   Column       Non-Null Count  Dtype         \n",
      "---  ------       --------------  -----         \n",
      " 0   id           682 non-null    int64         \n",
      " 1   account_id   682 non-null    int64         \n",
      " 2   date         682 non-null    datetime64[ns]\n",
      " 3   amount       682 non-null    int64         \n",
      " 4   payments     682 non-null    int64         \n",
      " 5   loan_status  682 non-null    object        \n",
      "dtypes: datetime64[ns](1), int64(4), object(1)\n",
      "memory usage: 32.1+ KB\n"
     ]
    }
   ],
   "source": [
    "#export\n",
    "os.chdir('../codes-and-outputs')\n",
    "districts.to_csv(os.getcwd()+ \"/loans.csv\",index = False, header = True)"
   ]
  },
  {
   "cell_type": "code",
   "execution_count": null,
   "metadata": {},
   "outputs": [],
   "source": [
    "os.chdir('../data')"
   ]
  },
  {
   "cell_type": "code",
   "execution_count": 125,
   "metadata": {},
   "outputs": [
    {
     "name": "stdout",
     "output_type": "stream",
     "text": [
      "\n",
      "\n",
      "\n",
      "\n",
      "\n",
      "\n",
      "\n",
      "\n",
      "\n",
      "\n",
      "\n"
     ]
    }
   ],
   "source": [
    "#checking for missing values --> none\n",
    "for i in range(len(districts.columns)):\n",
    "    print((districts.columns[i], sum(districts.iloc[:,i].isna())) if sum(districts.iloc[:,i].isna()) != 0 else \"\")\n"
   ]
  },
  {
   "cell_type": "code",
   "execution_count": 251,
   "metadata": {},
   "outputs": [],
   "source": [
    "rep = {\"[\": \"\", \"]\": \"\"}\n",
    "\n",
    "for key, value in rep.items():\n",
    "    for row in range (0,len(districts)):\n",
    "        districts.loc[row,'municipality_info'] = districts.loc[row,'municipality_info'].replace(key, value)\n",
    "        districts.loc[row,'unemployment_rate'] = districts.loc[row,'unemployment_rate'].replace(key, value)\n",
    "        districts.loc[row,'commited_crimes'] = districts.loc[row,'commited_crimes'].replace(key, value)\n",
    "        \n",
    "    \n",
    "\n",
    "for row in range (0,len(districts)):\n",
    "        x = districts.loc[row,'municipality_info'].split(\",\")\n",
    "        districts.loc[row,'pop500'] = x[0]\n",
    "        districts.loc[row,'pop500_1999'] = x[1]\n",
    "        districts.loc[row,'pop2000_9999'] = x[2]\n",
    "        districts.loc[row,'pop10000'] = x[3]\n",
    "\n",
    "for row in range (0,len(districts)):\n",
    "        x = districts.loc[row,'unemployment_rate'].split(\",\")\n",
    "        districts.loc[row,'unemployment95'] = x[0]\n",
    "        districts.loc[row,'unemployment96'] = x[1]\n",
    "\n",
    "\n",
    "for row in range (0,len(districts)):\n",
    "        x = districts.loc[row,'commited_crimes'].split(\",\")\n",
    "        districts.loc[row,'crime95'] = x[0]\n",
    "        districts.loc[row,'crime96'] = x[1]\n",
    "\n",
    "\n",
    "\n"
   ]
  },
  {
   "cell_type": "code",
   "execution_count": 252,
   "metadata": {},
   "outputs": [],
   "source": [
    "districts = districts.drop(['municipality_info','unemployment_rate','commited_crimes'], axis =1)"
   ]
  },
  {
   "cell_type": "code",
   "execution_count": 163,
   "metadata": {},
   "outputs": [],
   "source": [
    "os.chdir('../codes-and-outputs')\n",
    "districts.to_csv(os.getcwd()+ \"/district.csv\",index = False, header = True)\n"
   ]
  },
  {
   "cell_type": "code",
   "execution_count": 270,
   "metadata": {},
   "outputs": [],
   "source": [
    "for i in range(8,16):\n",
    "    districts.iloc[:,i] = pd.to_numeric(districts.iloc[:,i], errors = \"coerce\")"
   ]
  },
  {
   "cell_type": "code",
   "execution_count": 280,
   "metadata": {},
   "outputs": [],
   "source": [
    "districts['crime95']= districts['crime95'].fillna(districts['crime95'].median())\n",
    "districts['unemployment95']= districts['unemployment95'].fillna(districts['unemployment95'].median())"
   ]
  },
  {
   "cell_type": "code",
   "execution_count": 281,
   "metadata": {},
   "outputs": [
    {
     "name": "stdout",
     "output_type": "stream",
     "text": [
      "<class 'pandas.core.frame.DataFrame'>\n",
      "RangeIndex: 77 entries, 0 to 76\n",
      "Data columns (total 16 columns):\n",
      " #   Column             Non-Null Count  Dtype  \n",
      "---  ------             --------------  -----  \n",
      " 0   id                 77 non-null     int64  \n",
      " 1   name               77 non-null     object \n",
      " 2   region             77 non-null     object \n",
      " 3   population         77 non-null     int64  \n",
      " 4   num_cities         77 non-null     int64  \n",
      " 5   urban_ratio        77 non-null     float64\n",
      " 6   avg_salary         77 non-null     int64  \n",
      " 7   entrepreneur_1000  77 non-null     int64  \n",
      " 8   pop500             77 non-null     int64  \n",
      " 9   pop500_1999        77 non-null     int64  \n",
      " 10  pop2000_9999       77 non-null     int64  \n",
      " 11  pop10000           77 non-null     int64  \n",
      " 12  unemployment95     77 non-null     float64\n",
      " 13  unemployment96     77 non-null     float64\n",
      " 14  crime95            77 non-null     float64\n",
      " 15  crim96             77 non-null     int64  \n",
      "dtypes: float64(4), int64(10), object(2)\n",
      "memory usage: 9.8+ KB\n"
     ]
    }
   ],
   "source": [
    "districts.info()"
   ]
  }
 ],
 "metadata": {
  "kernelspec": {
   "display_name": "Python 3.10.4 ('ANLY501')",
   "language": "python",
   "name": "python3"
  },
  "language_info": {
   "codemirror_mode": {
    "name": "ipython",
    "version": 3
   },
   "file_extension": ".py",
   "mimetype": "text/x-python",
   "name": "python",
   "nbconvert_exporter": "python",
   "pygments_lexer": "ipython3",
   "version": "3.10.4"
  },
  "orig_nbformat": 4,
  "vscode": {
   "interpreter": {
    "hash": "0e871aec5cdce359f50730c2f4a4c8102d3246dd2d9815cdf4f3c7213e8de692"
   }
  }
 },
 "nbformat": 4,
 "nbformat_minor": 2
}
